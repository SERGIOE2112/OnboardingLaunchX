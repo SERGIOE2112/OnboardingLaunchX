{
 "cells": [
  {
   "cell_type": "markdown",
   "metadata": {},
   "source": [
    "# Escribir declaraciones if, else, y elif"
   ]
  },
  {
   "cell_type": "markdown",
   "metadata": {},
   "source": [
    "Para este ejercicio, escribirás una lógica condicional que imprima una advertencia si un asteroide se acerca a la Tierra demasiado rápido. La velocidad del asteroide varía dependiendo de lo cerca que esté del sol, y cualquier velocidad superior a 25 kilómetros por segundo (km/s) merece una advertencia.\n",
    "\n",
    "Un asteroide se acerca, y viaja a una velocidad de 49 km/s."
   ]
  },
  {
   "cell_type": "code",
   "execution_count": 7,
   "metadata": {},
   "outputs": [
    {
     "name": "stdout",
     "output_type": "stream",
     "text": [
      "Ve despidiéndote de tu familia. :(\n"
     ]
    }
   ],
   "source": [
    "asteroide = int(input(\"Velocidad del asteroide en km/s: \"))\n",
    "if asteroide > 25:\n",
    "    print(\"Despídete de tu familia pronto. Un asteroide viene en camino\")\n",
    "else:\n",
    "    print(\"No problem. Sigue con tu vida\")"
   ]
  },
  {
   "cell_type": "markdown",
   "metadata": {},
   "source": [
    "Si un asteroide entra en la atmósfera de la Tierra a una velocidad mayor o igual a 20 km/s, a veces produce un rayo de luz que se puede ver desde la Tierra. Escribe la lógica condicional que usa declaraciones if, else, y elif para alertar a las personas de todo el mundo que deben buscar un asteroide en el cielo. ¡Hay uno que se dirige a la tierra ahora a una velocidad de 19 km/s!"
   ]
  },
  {
   "cell_type": "code",
   "execution_count": 8,
   "metadata": {},
   "outputs": [],
   "source": [
    "asteroide = int(input(\"¿A qué velocidad en km/s va el asteroide? \"))\n",
    "if asteroide > 20:\n",
    "    print(\"¡Un asteroide! Mira la luz que dejó en el cielo.\")\n",
    "elif asteroide == 20:\n",
    "    print(\"¡Un asteroide! Mira la luz que dejó en el cielo.\")\n",
    "else:\n",
    "    print(\"¿Qué? ¿Una luz de asteroide? Patrañas. Continúa con tu vida\")"
   ]
  },
  {
   "cell_type": "markdown",
   "metadata": {},
   "source": [
    "Escribe un programa que emita la advertencia o información correcta a la gente de la Tierra, según la velocidad y el tamaño de un asteroide. Utiliza instrucciones if, else, y elif, así como los operadores and y or."
   ]
  },
  {
   "cell_type": "code",
   "execution_count": 9,
   "metadata": {},
   "outputs": [
    {
     "name": "stdout",
     "output_type": "stream",
     "text": [
      "Naaada. :)\n"
     ]
    }
   ],
   "source": [
    "velocidad = int(input(\"Velocidad del asteroide: \"))\n",
    "tamaño = int(input(\"Tamaño del asteroide: \"))\n",
    "if velocidad > 25 and tamaño > 25:\n",
    "    print(\"Cuidado. Un asteroide se acerca a gran velocidad.\")\n",
    "elif velocidad >= 20:\n",
    "    print(\"¡Mira! Hay una luz en el cielo.\")\n",
    "elif tamaño < 25:\n",
    "    print(\"Naaada. :)\") \n",
    "else:\n",
    "    print(\"Naaada. :)\") \n",
    "    "
   ]
  }
 ],
 "metadata": {
  "interpreter": {
   "hash": "144c3d6e15afe3962b350d4ca043af562aad293acd5ad34945a395541dffadba"
  },
  "kernelspec": {
   "display_name": "Python 3.10.1 ('env': venv)",
   "language": "python",
   "name": "python3"
  },
  "language_info": {
   "codemirror_mode": {
    "name": "ipython",
    "version": 3
   },
   "file_extension": ".py",
   "mimetype": "text/x-python",
   "name": "python",
   "nbconvert_exporter": "python",
   "pygments_lexer": "ipython3",
   "version": "3.10.1"
  },
  "orig_nbformat": 4
 },
 "nbformat": 4,
 "nbformat_minor": 2
}
