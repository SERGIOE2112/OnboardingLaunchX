{
 "cells": [
  {
   "cell_type": "markdown",
   "metadata": {},
   "source": [
    "# Ejercicio 1: Utilizar operadores aritméticos"
   ]
  },
  {
   "cell_type": "markdown",
   "metadata": {},
   "source": [
    "## Definiendo variables"
   ]
  },
  {
   "cell_type": "code",
   "execution_count": null,
   "metadata": {},
   "outputs": [],
   "source": [
    "distancia_tierra = 149597870\n",
    "distancia_jupiter = 778547200"
   ]
  },
  {
   "cell_type": "markdown",
   "metadata": {},
   "source": [
    "## Realizar la operación"
   ]
  },
  {
   "cell_type": "code",
   "execution_count": null,
   "metadata": {},
   "outputs": [],
   "source": [
    "distancia_km = abs(distancia_tierra - distancia_jupiter)\n",
    "distancia_mi = distancia_km * 0.621"
   ]
  },
  {
   "cell_type": "markdown",
   "metadata": {},
   "source": [
    "## Prueba tu proyecto"
   ]
  },
  {
   "cell_type": "code",
   "execution_count": null,
   "metadata": {},
   "outputs": [],
   "source": [
    "print(distancia_km)\n",
    "print(distancia_mi)"
   ]
  },
  {
   "cell_type": "markdown",
   "metadata": {},
   "source": [
    "# Ejercicio 2: Convierte cadenas en números y usa valores absolutos"
   ]
  },
  {
   "cell_type": "code",
   "execution_count": null,
   "metadata": {},
   "outputs": [],
   "source": [
    "# Lee los valores\n",
    "planet_one = input(\"Ingresa la distancia en km desde el Sol del planeta 01: \")\n",
    "planet_two = input(\"Ingresa la distancia en km desde el Sol del planeta 02: \")\n",
    "\n",
    "#Convertir a número\n",
    "planet_one = int(planet_one)\n",
    "planet_two = int(planet_two)\n",
    "\n",
    "# Realizar el cálculo y convertir a valor absoluto\n",
    "distance_km = abs(planet_two - planet_one)\n",
    "print(f\" {distance_km} km\")\n",
    "distance_mi = distance_km * 0.621\n",
    "print(f\" {distance_mi} mi\")\n",
    "\n"
   ]
  }
 ],
 "metadata": {
  "interpreter": {
   "hash": "68f77d7988f678c26ea9e33a3766205473b3958c28e437e5f80f1733e7a472e3"
  },
  "kernelspec": {
   "display_name": "Python 3.10.1 64-bit",
   "language": "python",
   "name": "python3"
  },
  "language_info": {
   "codemirror_mode": {
    "name": "ipython",
    "version": 3
   },
   "file_extension": ".py",
   "mimetype": "text/x-python",
   "name": "python",
   "nbconvert_exporter": "python",
   "pygments_lexer": "ipython3",
   "version": "3.10.1"
  },
  "orig_nbformat": 4
 },
 "nbformat": 4,
 "nbformat_minor": 2
}
