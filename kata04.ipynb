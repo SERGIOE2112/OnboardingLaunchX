{
 "cells": [
  {
   "cell_type": "markdown",
   "metadata": {},
   "source": [
    "# Ejercicio 01: Transformar cadenas"
   ]
  },
  {
   "cell_type": "code",
   "execution_count": null,
   "metadata": {},
   "outputs": [],
   "source": [
    "text = \"\"\"Interesting facts about the Moon. The Moon is Earth's only satellite. There are several interesting facts about the Moon and how it affects life here on Earth. \n",
    "On average, the Moon moves 4cm away from the Earth every year. This yearly drift is not significant enough to cause immediate effects on Earth. The highest daylight temperature of the Moon is 127 C.\"\"\"\n",
    "sentences = text.split(\".\")\n",
    "words = [\"average\", \"temperature\", \"distance\"]\n",
    "change = \"Celsius\"\n",
    "\n",
    "for item in sentences:\n",
    "    for word in words:\n",
    "        if word in item:\n",
    "            print(item)\n",
    "\n",
    "for item in sentences:\n",
    "    for word in item:\n",
    "        if word == \"C\":\n",
    "            new_sentence = item.replace(\"C\", \"Celsius\")\n",
    "            print(new_sentence)\n",
    "            break"
   ]
  },
  {
   "cell_type": "markdown",
   "metadata": {},
   "source": [
    "# Ejercicio 02: Formateando cadenas"
   ]
  },
  {
   "cell_type": "code",
   "execution_count": 78,
   "metadata": {},
   "outputs": [
    {
     "name": "stdout",
     "output_type": "stream",
     "text": [
      " --------------------------------------------------\n",
      "Planet name: Earth\n",
      "Gravity on Moon: 1.6199999999999999 m/s2\n",
      " --------------------------------------------------\n",
      " --------------------------------------------------\n",
      "Planet name: Earth\n",
      "Gravity on Moon: 1.6199999999999999 m/s2\n",
      " --------------------------------------------------\n",
      "\n",
      "Gravity facts about Ganymede of Mars\n",
      "-----------------------------------------------\n",
      "Planet name: Mars\n",
      "Gravity on Ganymede: 1.4300000000000002 m/s2\n",
      "-----------------------------------------------\n",
      "\n"
     ]
    }
   ],
   "source": [
    "name = \"Moon\"\n",
    "gravity = 0.00162 # in kms\n",
    "planet = \"Earth\"\n",
    "\n",
    "title = (f\"Gravity facts about {name} of {planet}\")\n",
    "facts = (f\"\"\" {\"-\"*50}\n",
    "Planet name: {planet}\n",
    "Gravity on {name}: {gravity*1000} m/s2\n",
    " {\"-\"*50}\"\"\")\n",
    "\n",
    "template = (f\"\"\"{title.title()}\n",
    "{facts} \"\"\")\n",
    "\n",
    "print(facts)\n",
    "\n",
    "name = \"Ganymede\"\n",
    "gravity = 0.00143\n",
    "planet = \"Mars\"\n",
    "\n",
    "print(facts)\n",
    "\n",
    "new_template = \"\"\"\n",
    "Gravity facts about {name} of {planet}\n",
    "-----------------------------------------------\n",
    "Planet name: {planet}\n",
    "Gravity on {name}: {gravity} m/s2\n",
    "-----------------------------------------------\n",
    "\"\"\"\n",
    "print(new_template.format(name=name, planet=planet, gravity=gravity*1000))\n"
   ]
  }
 ],
 "metadata": {
  "interpreter": {
   "hash": "68f77d7988f678c26ea9e33a3766205473b3958c28e437e5f80f1733e7a472e3"
  },
  "kernelspec": {
   "display_name": "Python 3.10.1 64-bit",
   "language": "python",
   "name": "python3"
  },
  "language_info": {
   "codemirror_mode": {
    "name": "ipython",
    "version": 3
   },
   "file_extension": ".py",
   "mimetype": "text/x-python",
   "name": "python",
   "nbconvert_exporter": "python",
   "pygments_lexer": "ipython3",
   "version": "3.10.1"
  },
  "orig_nbformat": 4
 },
 "nbformat": 4,
 "nbformat_minor": 2
}
