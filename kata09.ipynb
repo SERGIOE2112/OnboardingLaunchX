{
 "cells": [
  {
   "cell_type": "markdown",
   "metadata": {},
   "source": [
    "# Ejercicio 1: Uso de funciones en Python"
   ]
  },
  {
   "cell_type": "code",
   "execution_count": null,
   "metadata": {},
   "outputs": [],
   "source": [
    "# Función para leer 3 tanques de combustible y muestre el promedio\n",
    "def tanques(tanque1, tanque2, tanque3):\n",
    "    prom = (tanque1 + tanque2 + tanque3) / 3\n",
    "    return f\"\"\"\n",
    "        Promedio total: {prom}\n",
    "        Tanque 1: {tanque1}\n",
    "        Tanque 2: {tanque2}\n",
    "        Tanque 3: {tanque3}\n",
    "    \"\"\"\n",
    "print(tanques(12,12,45)) \n",
    "\n",
    "def promedio (values):\n",
    "    total = sum(values)\n",
    "    items = len(values)\n",
    "    return total / items\n",
    "\n",
    "print(promedio([1,2,3]))\n",
    "\n",
    "def new_tanques(tanque1, tanque2, tanque3):\n",
    "    return f\"\"\"\n",
    "        Promedio Total: {promedio([tanque1, tanque2, tanque3])}\n",
    "        Tanque 1: {tanque1}\n",
    "        Tanque 2: {tanque2}\n",
    "        Tanque 3: {tanque3}\n",
    "    \"\"\"\n",
    "print(new_tanques(1,2,3))"
   ]
  },
  {
   "cell_type": "markdown",
   "metadata": {},
   "source": [
    "# Ejercicio 2: Trabajo con argumentos de palabra clave"
   ]
  },
  {
   "cell_type": "code",
   "execution_count": 56,
   "metadata": {},
   "outputs": [
    {
     "name": "stdout",
     "output_type": "stream",
     "text": [
      "\n",
      "        Prelanzamiento: 12.2\n",
      "        Tiempo de vuelo: 1.2 horas\n",
      "        Destino: Montreal\n",
      "        Capacidad tanque externo: 123.2 litros\n",
      "        Capacidad tanque interno: 12.2 litros\n",
      "    \n",
      "\n",
      "    Misión: Moon\n",
      "    Tiempo de vuelo: 76\n",
      "    Reserva tanques: 500000\n",
      "    \n",
      "\n",
      "    Misión: Moon\n",
      "    Tiempo de vuelo: 74\n",
      "    Reserva tanques: 500000\n",
      "    main tank --> 300000 litros restantes\n",
      "external tank --> 200000 litros restantes\n",
      "\n"
     ]
    }
   ],
   "source": [
    "# Función con un informe preciso de la misión. Considera hora de prelanzamiento, tiempo de vuelo, destino, tanque externo y tanque interno\n",
    "def informe (prelanzamiento, tiempo_vuelo, destino, tanque_externo, tanque_interno):\n",
    "    return f\"\"\"\n",
    "        Prelanzamiento: {prelanzamiento}\n",
    "        Tiempo de vuelo: {tiempo_vuelo} horas\n",
    "        Destino: {destino}\n",
    "        Capacidad tanque externo: {tanque_externo} litros\n",
    "        Capacidad tanque interno: {tanque_interno} litros\n",
    "    \"\"\"\n",
    "print(informe(12.2,1.2,\"Montreal\",123.2, 12.2))\n",
    "\n",
    "def new_informe(destino, *minutes, **fuel_reservoirs):\n",
    "    return f\"\"\"\n",
    "    Misión: {destino}\n",
    "    Tiempo de vuelo: {sum(minutes)}\n",
    "    Reserva tanques: {sum(fuel_reservoirs.values())}\n",
    "    \"\"\"\n",
    "print(new_informe(\"Moon\", 10, 15, 51, main=300000, external=200000))\n",
    "\n",
    "def new_new_informe(destino, *minutes, **fuel_reservoirs):\n",
    "    reporte = f\"\"\"\n",
    "    Misión: {destino}\n",
    "    Tiempo de vuelo: {sum(minutes)}\n",
    "    Reserva tanques: {sum(fuel_reservoirs.values())}\n",
    "    \"\"\"\n",
    "    for tank_name, gallons in fuel_reservoirs.items():\n",
    "        reporte += f\"{tank_name} tank --> {gallons} litros restantes\\n\"\n",
    "    return reporte\n",
    "print(new_new_informe(\"Moon\", 8, 11, 55, main=300000, external=200000))\n",
    "\n"
   ]
  }
 ],
 "metadata": {
  "interpreter": {
   "hash": "68f77d7988f678c26ea9e33a3766205473b3958c28e437e5f80f1733e7a472e3"
  },
  "kernelspec": {
   "display_name": "Python 3.10.1 64-bit",
   "language": "python",
   "name": "python3"
  },
  "language_info": {
   "name": "python",
   "version": "3.10.1"
  },
  "orig_nbformat": 4
 },
 "nbformat": 4,
 "nbformat_minor": 2
}
